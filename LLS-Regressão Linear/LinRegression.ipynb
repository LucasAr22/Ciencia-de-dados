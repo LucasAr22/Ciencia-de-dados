{
 "cells": [
  {
   "cell_type": "markdown",
   "metadata": {},
   "source": [
    "### Modelagem matemático-computacional : Método LLS (Regressão linear)"
   ]
  },
  {
   "cell_type": "markdown",
   "metadata": {},
   "source": [
    "Vamos introduzir um modelo simples e muito poderoso para o estudo de dados: A regressão linear. Com ela podemos estimar comportamento de algumas funções por meio da extrapolação ou interpolação, o primeiro busca estimar um ponto que esteja presente fora do intervalo que os pontos se enquadram, já o segundo busca estimar onde os pontos estão presentes. A regressão linear pode auxiliar nesta estimativa encontrando, por exemplo, a melhor reta que traduz um conjunto de dados com comportamento linear. "
   ]
  },
  {
   "cell_type": "markdown",
   "metadata": {},
   "source": [
    "Para isso, considere 2 pontos $(x_1,y_1)$ e $(x_2,y_2)$ como conjunto de dados, queremos encontrar a melhor reta que passa por esse pontos. Dado que a equação da reta é da forma: $y = mx + c$.\n",
    "\n",
    "Temos que essa equação deve satisfazer o sistema em : \n",
    "\n",
    "$$y_1 = mx_1 + c$$\n",
    "$$y_2 = mx_2 + c$$\n",
    "\n",
    "onde os coeficientes são dados por:\n",
    "\n",
    "$$c = \\dfrac{x_1y_2 - x_2y_1}{x_1 - x_2}$$\n",
    "$$m = \\dfrac{y_2 - y_1}{x_2 - x_1}$$\n",
    "\n",
    "No algoritmo a seguir vemos como é efetuado o calculo neste caso."
   ]
  },
  {
   "cell_type": "code",
   "execution_count": 134,
   "metadata": {},
   "outputs": [
    {
     "name": "stdout",
     "output_type": "stream",
     "text": [
      "p0 =  [1, 2] p1 =  [4, 3]\n",
      "c=  1.6666666666666667 m=  0.3333333333333333\n"
     ]
    },
    {
     "data": {
      "image/png": "[encoded data removed]",
      "text/plain": [
       "<Figure size 720x432 with 1 Axes>"
      ]
     },
     "metadata": {
      "needs_background": "light"
     },
     "output_type": "display_data"
    }
   ],
   "source": [
    "import matplotlib.pyplot as plt \n",
    "import numpy as np\n",
    "\n",
    "def lin_reg_2(x,y):\n",
    "    return [(x[0]*y[1] - x[1]*y[0])/(x[0] - x[1]),(y[1] - y[0])/(x[1]-x[0])]\n",
    "\n",
    "x_ = [1,4]\n",
    "y_ = [2,3]\n",
    "c,m = lin_reg_2(x_,y_)\n",
    "print(\"p0 = \",[1,2], \"p1 = \", [4,3])\n",
    "print(\"c= \",c,\"m= \", m)\n",
    "intval = np.linspace(0.5,7,10)\n",
    "plt.plot(intval,m*intval + c,'--', color = 'blue', linewidth = 4)\n",
    "plt.plot(x_,y_,'o',color = 'black', markersize = 10)\n",
    "\n",
    "plt.show()"
   ]
  },
  {
   "cell_type": "markdown",
   "metadata": {},
   "source": [
    "Podemos utilizar a representação matricial para esses casos, onde temos :\n",
    "\n",
    "$$y  = \\begin{bmatrix}y_2 \\\\ y_2 \\end{bmatrix}$$\n",
    "\n",
    "$$p  = \\begin{bmatrix}c \\\\ m \\end{bmatrix}$$\n",
    "\n",
    "e então definimos a matriz **A**, de forma que nossa equação fique da forma $y = Ap$:\n",
    "\n",
    "$$y  = \\begin{bmatrix} 1 & x_1 \\\\ 1 & x_2 \\end{bmatrix}$$\n",
    "\n",
    "e então, multiplicando pela matriz inversa:\n",
    "\n",
    "$$A^{-1}y = A^{-1}Ap \\Longrightarrow p = A^{-1}y$$\n",
    "\n"
   ]
  },
  {
   "cell_type": "code",
   "execution_count": 135,
   "metadata": {},
   "outputs": [],
   "source": [
    "def lin_reg_matrix_2(x,y):\n",
    "    A = np.matrix(([1,x[0]],[1,x[1]]))\n",
    "    \n",
    "    p = np.linalg.inv(A)*np.reshape(y,(2,1))\n",
    "    \n",
    "    return p"
   ]
  },
  {
   "cell_type": "code",
   "execution_count": 136,
   "metadata": {},
   "outputs": [
    {
     "data": {
      "text/plain": [
       "[<matplotlib.lines.Line2D at 0x43b12a35608>]"
      ]
     },
     "execution_count": 136,
     "metadata": {},
     "output_type": "execute_result"
    },
    {
     "data": {
      "image/png": "[encoded data removed]",
      "text/plain": [
       "<Figure size 720x432 with 1 Axes>"
      ]
     },
     "metadata": {
      "needs_background": "light"
     },
     "output_type": "display_data"
    }
   ],
   "source": [
    "x_ = [1,4]\n",
    "y_ = [2,6]\n",
    "arg = lin_reg_matrix_2(x_,y_)\n",
    "intval = np.linspace(0.5,5,10)\n",
    "plt.plot(intval,arg[1,0]*intval + arg[0,0],'--', color = 'blue', linewidth = 4)\n",
    "plt.plot(x_,y_,'o',color = 'black', markersize = 10)\n",
    "#plt.show()"
   ]
  },
  {
   "cell_type": "markdown",
   "metadata": {},
   "source": [
    "### Generalização\n",
    "\n",
    "Por fim podemos generalizar e efetuar para um conjunto de **N** pontos $(x,y)$, para isso vamos definir as matrizes $A, A^T, p$ e $y$ dados os vetores $x$ e $y$.\n",
    "\n",
    "$$\n",
    "y = \\begin{bmatrix} y_1 \\\\ y_2 \\\\ \\vdots \\\\ y_n \\end{bmatrix}\n",
    "A  = \\begin{bmatrix} 1 & x_1 \\\\ 1 & x_2 \\\\ \\vdots & \\vdots \\\\ 1 & x_n \\end{bmatrix}\n",
    "p = \\begin{bmatrix} c \\\\ m \\end{bmatrix}\n",
    "$$\n",
    "\n",
    "de modo que $A^T$\n",
    "\n",
    "$$\n",
    "A^T  = \\begin{bmatrix} 1 & 1 & \\cdots & 1\\\\ x_1 & x_2 \\cdots & x_n  \\end{bmatrix} $$\n",
    "\n",
    "A equação que resolve o problema é $\\vec{y} = A\\vec{p}$, porém $A$ não é quadrada, então vamos multiplicar ambos os lados por $A^T$ resultando em\n",
    "\n",
    "$$ A^T \\vec{p} = A^T A \\vec{y}$$\n",
    "\n",
    "definindo $S = A^T A$ e $S^{-1} = (A^T A)^{-1}$ e multiplicando em ambos os lados da equação:\n",
    "\n",
    "$$ S^-1 A^T \\vec{y} = (A^TA)A^T\\vec{y} = S^{-1}S \\vec{p} = \\vec{p}$$\n",
    "\n",
    "por fim se definirmos $U = S^{-1}A^T = (A^TA)^{-1} A^T$, obtemos a equação geral:\n",
    "\n",
    "$$\\boxed{ \\vec{p} = U \\vec{y}}$$\n",
    "\n",
    "\n",
    "Cujo erro é fornecido pela soma dos quadrados da diferença entre o ponto real e sua aproximação na reta encontrada, assim se definirmos $\\delta = y_{lls}^i - y_i$, ficamos com:\n",
    "\n",
    "$$\\epsilon = \\sum_{i=1}^{N} \\delta^2 = \\sum_{i=1}^{N} [(m \\cdot x_i + c) - y_i]^2 $$"
   ]
  },
  {
   "cell_type": "code",
   "execution_count": 145,
   "metadata": {},
   "outputs": [],
   "source": [
    "def LLS_linear(x,y):\n",
    "    \n",
    "    if (type(x) == list):\n",
    "        x = np.array(x)\n",
    "    if (type(y) == list):\n",
    "        y = np.array(y)\n",
    "    \n",
    "    ''' \n",
    "    Função que aplica o método dos mínimos quadrados linear utilizando a forma matricial\n",
    "    \n",
    "    Input: \n",
    "        * 2 lista ou arrays numpy com os pontos x e y\n",
    "    Output:\n",
    "        * Retorna os coeficientes c e m da regressão linear, sua equação e o erro associado\n",
    "        * Faz o plot dos pontos\n",
    "    '''\n",
    "    \n",
    "    \n",
    "    size = len(x)\n",
    "    y = y.reshape(size,1)\n",
    "    A = np.matrix((np.ones(size), x)).T\n",
    "    U = np.linalg.inv(A.T*A)*A.T\n",
    "    p = U*y\n",
    "    \n",
    "    delta = p[1,0]*x + p[0,0] - y.reshape(1,size)\n",
    "    e = np.sum(delta**2)\n",
    "    \n",
    "    \n",
    "    print('c = ', p[0,0], 'm = ', p[1,0], '\\nEquation: y = ', p[0,0],'x','+ ', p[1,0])\n",
    "    print('error = ', e/size)\n",
    "    \n",
    "    fig,axs = plt.subplots()\n",
    "    plt.rcParams['figure.figsize'] = (10,6)\n",
    "    \n",
    "    axs.plot(x,y,'o', color = 'black', markersize = 5)\n",
    "    axs.errorbar( x, p[1,0]*x + p[0,0], e/size, color = 'red')"
   ]
  },
  {
   "cell_type": "code",
   "execution_count": 146,
   "metadata": {},
   "outputs": [
    {
     "name": "stdout",
     "output_type": "stream",
     "text": [
      "c =  4.232487533786218 m =  -0.8177658692581362 \n",
      "Equation: y =  4.232487533786218 x +  -0.8177658692581362\n",
      "error =  3.1392657993333293\n"
     ]
    },
    {
     "data": {
      "image/png": "[encoded data removed]",
      "text/plain": [
       "<Figure size 720x432 with 1 Axes>"
      ]
     },
     "metadata": {
      "needs_background": "light"
     },
     "output_type": "display_data"
    }
   ],
   "source": [
    "LLS_linear(np.random.random(7),np.array([1,3,5,2,6,5.5,5]))"
   ]
  },
  {
   "cell_type": "code",
   "execution_count": null,
   "metadata": {},
   "outputs": [],
   "source": []
  }
 ],
 "metadata": {
  "kernelspec": {
   "display_name": "Python 3",
   "language": "python",
   "name": "python3"
  },
  "language_info": {
   "codemirror_mode": {
    "name": "ipython",
    "version": 3
   },
   "file_extension": ".py",
   "mimetype": "text/x-python",
   "name": "python",
   "nbconvert_exporter": "python",
   "pygments_lexer": "ipython3",
   "version": "3.7.6"
  }
 },
 "nbformat": 4,
 "nbformat_minor": 4
}
